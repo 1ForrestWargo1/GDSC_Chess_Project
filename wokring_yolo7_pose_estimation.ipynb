{
  "cells": [
    {
      "cell_type": "markdown",
      "metadata": {
        "id": "view-in-github",
        "colab_type": "text"
      },
      "source": [
        "<a href=\"https://colab.research.google.com/github/1ForrestWargo1/GDSC_Chess_Project/blob/main/wokring_yolo7_pose_estimation.ipynb\" target=\"_parent\"><img src=\"https://colab.research.google.com/assets/colab-badge.svg\" alt=\"Open In Colab\"/></a>"
      ]
    },
    {
      "cell_type": "code",
      "execution_count": null,
      "metadata": {
        "colab": {
          "base_uri": "https://localhost:8080/"
        },
        "id": "CyaT8yNlXKkP",
        "outputId": "b38aa4cf-87ca-443f-fdcd-9890756d34ba"
      },
      "outputs": [
        {
          "output_type": "stream",
          "name": "stdout",
          "text": [
            "Mounted at /content/drive\n"
          ]
        }
      ],
      "source": [
        "from google.colab import drive\n",
        "drive.mount('/content/drive')"
      ]
    },
    {
      "cell_type": "code",
      "source": [],
      "metadata": {
        "id": "PSNp9RkTfrHY"
      },
      "execution_count": null,
      "outputs": []
    },
    {
      "cell_type": "code",
      "source": [
        "p_map = {'nose':0,'left_foot': 16, \"right_foot\": 15,'left_eye':2,\"right_shoulder\":5,'left_shoulder':6,'left_hip':12,'left_hand':9,'left_ear':4}"
      ],
      "metadata": {
        "id": "JV0bQNLTX5Wq"
      },
      "execution_count": null,
      "outputs": []
    },
    {
      "cell_type": "code",
      "execution_count": null,
      "metadata": {
        "colab": {
          "base_uri": "https://localhost:8080/"
        },
        "id": "RbiNpdRSXTCs",
        "outputId": "07307345-8ed2-4744-a492-4c8cda9cc897"
      },
      "outputs": [
        {
          "output_type": "stream",
          "name": "stdout",
          "text": [
            "Cloning into 'yolov7'...\n",
            "remote: Enumerating objects: 998, done.\u001b[K\n",
            "remote: Total 998 (delta 0), reused 0 (delta 0), pack-reused 998\u001b[K\n",
            "Receiving objects: 100% (998/998), 69.77 MiB | 27.49 MiB/s, done.\n",
            "Resolving deltas: 100% (465/465), done.\n"
          ]
        }
      ],
      "source": [
        "! git clone https://github.com/WongKinYiu/yolov7.git\n"
      ]
    },
    {
      "cell_type": "code",
      "execution_count": null,
      "metadata": {
        "colab": {
          "base_uri": "https://localhost:8080/"
        },
        "id": "DcYXVbG1XX7W",
        "outputId": "0118f85c-27a2-4fc9-94d1-bd4d18e5f46f"
      },
      "outputs": [
        {
          "output_type": "stream",
          "name": "stdout",
          "text": [
            "/content/yolov7\n",
            "cfg\tdetect.py  hubconf.py  models\t  requirements.txt  tools\t  utils\n",
            "data\texport.py  inference   paper\t  scripts\t    train_aux.py\n",
            "deploy\tfigure\t   LICENSE.md  README.md  test.py\t    train.py\n"
          ]
        }
      ],
      "source": [
        "%cd yolov7\n",
        "!ls"
      ]
    },
    {
      "cell_type": "code",
      "execution_count": null,
      "metadata": {
        "colab": {
          "base_uri": "https://localhost:8080/"
        },
        "id": "S0-kufH5XbLA",
        "outputId": "f3f74cea-9e1a-41aa-a9d8-6cc888610408"
      },
      "outputs": [
        {
          "output_type": "stream",
          "name": "stdout",
          "text": [
            "  % Total    % Received % Xferd  Average Speed   Time    Time     Time  Current\n",
            "                                 Dload  Upload   Total   Spent    Left  Speed\n",
            "  0     0    0     0    0     0      0      0 --:--:-- --:--:-- --:--:--     0\n",
            "100  153M  100  153M    0     0  21.1M      0  0:00:07  0:00:07 --:--:-- 29.4M\n"
          ]
        }
      ],
      "source": [
        "! curl -L https://github.com/WongKinYiu/yolov7/releases/download/v0.1/yolov7-w6-pose.pt -o yolov7-w6-pose.pt\n"
      ]
    },
    {
      "cell_type": "code",
      "execution_count": null,
      "metadata": {
        "id": "EM5_HrK8Xd2V"
      },
      "outputs": [],
      "source": [
        "import torch\n",
        "from torchvision import transforms\n",
        "\n",
        "from utils.datasets import letterbox\n",
        "from utils.general import non_max_suppression_kpt\n",
        "from utils.plots import output_to_keypoint, plot_skeleton_kpts\n",
        "\n",
        "import matplotlib.pyplot as plt\n",
        "import cv2\n",
        "import numpy as np"
      ]
    },
    {
      "cell_type": "code",
      "execution_count": null,
      "metadata": {
        "id": "QNUwIC43Xhn6"
      },
      "outputs": [],
      "source": [
        "device = torch.device(\"cuda:0\" if torch.cuda.is_available() else \"cpu\")\n",
        "\n",
        "def load_model():\n",
        "    model = torch.load('yolov7-w6-pose.pt', map_location=device)['model']\n",
        "    # Put in inference mode\n",
        "    model.float().eval()\n",
        "\n",
        "    if torch.cuda.is_available():\n",
        "        # half() turns predictions into float16 tensors\n",
        "        # which significantly lowers inference time\n",
        "        model.half().to(device)\n",
        "    return model\n",
        "\n",
        "model = load_model()"
      ]
    },
    {
      "cell_type": "code",
      "execution_count": null,
      "metadata": {
        "id": "3gIHDqf5Xkja"
      },
      "outputs": [],
      "source": [
        "def run_inference(image):\n",
        "    # Resize and pad image\n",
        "    image = letterbox(image, 960, stride=64, auto=True)[0] # shape: (567, 960, 3)\n",
        "    # Apply transforms\n",
        "    image = transforms.ToTensor()(image) # torch.Size([3, 567, 960])\n",
        "    if torch.cuda.is_available():\n",
        "      image = image.half().to(device)\n",
        "    # Turn image into batch\n",
        "    image = image.unsqueeze(0) # torch.Size([1, 3, 567, 960])\n",
        "    with torch.no_grad():\n",
        "      output, _ = model(image)\n",
        "    return output, image\n"
      ]
    },
    {
      "cell_type": "code",
      "execution_count": null,
      "metadata": {
        "id": "hnpiG_UbZkW0"
      },
      "outputs": [],
      "source": [
        "def pose_estimation_video(filename,save_file = None):\n",
        "    global standing_angle, standing_mean, standing_std\n",
        "    set_standing_angle = len(standing_angle) == 0\n",
        "    if set_standing_angle:\n",
        "      print(\"SETTING STANDING ANGLE\")\n",
        "    else:\n",
        "      print(\"CALCULATING CURRENT ANGLE\")\n",
        "\n",
        "\n",
        "    cap = cv2.VideoCapture(filename)\n",
        "    # VideoWriter for saving the video\n",
        "    fourcc = cv2.VideoWriter_fourcc(*'MP4V')\n",
        "    if not save_file:\n",
        "      save_file =  'test_output.mp4'\n",
        "    out = cv2.VideoWriter(save_file, fourcc, 30.0, (int(cap.get(3)), int(cap.get(4))))\n",
        "    count =0\n",
        "    print('starting')\n",
        "    while cap.isOpened():\n",
        "        \n",
        "        (ret, frame) = cap.read()\n",
        "        count +=1\n",
        "        #print(count)\n",
        "        if ret == True:\n",
        "            frame = cv2.cvtColor(frame, cv2.COLOR_BGR2RGB)\n",
        "            output, frame = run_inference(frame)\n",
        "  \n",
        "\n",
        "            frame = draw_keypoints(output, frame*0,set_standing_angle)\n",
        "            frame = cv2.resize(frame, (int(cap.get(3)), int(cap.get(4))))\n",
        "            out.write(frame)\n",
        "            #cv2.imshow('Pose estimation', frame)\n",
        "        else:\n",
        "            break\n",
        "\n",
        "        if cv2.waitKey(10) & 0xFF == ord('q'):\n",
        "            break\n",
        "    if set_standing_angle:\n",
        "      standing_angle = np.array(standing_angle)\n",
        "      standing_mean = np.mean(standing_angle,axis = 0)\n",
        "      standing_std = np.std(standing_angle,axis = 0)\n",
        "\n",
        "\n",
        "    cap.release()\n",
        "    out.release()\n",
        "    cv2.destroyAllWindows()"
      ]
    },
    {
      "cell_type": "code",
      "source": [
        "import numpy as np\n",
        "def calc_shoulder_to_foot_dist(points):\n",
        "  foot_points = np.array([points[p_map[\"left_foot\"]*3:p_map[\"left_foot\"]*3+3],points[p_map[\"right_foot\"]*3:p_map[\"right_foot\"]*3+3]])\n",
        "  shoulder_points = np.array([points[p_map[\"left_shoulder\"]*3:p_map[\"left_shoulder\"]*3+3],points[p_map[\"right_shoulder\"]*3:p_map[\"right_shoulder\"]*3+3]])\n",
        "  if sum(foot_points[:,2]) < 0.1 or sum(shoulder_points[:,2]) < 0.1:\n",
        "    return [-1,-1,-1],[-1,-1],[-1,-1]\n",
        "\n",
        "  foot_conf = foot_points[:,2]/sum(foot_points[:,2])\n",
        "  shoulder_conf = shoulder_points[:,2]/sum(shoulder_points[:,2])\n",
        "\n",
        "  avg_foot = foot_points[0,:2]*foot_conf[0] + foot_points[1,:2]*foot_conf[1]\n",
        "  avg_shoulder = shoulder_points[0,:2]*shoulder_conf[0] + shoulder_points[1,:2]*shoulder_conf[1]\n",
        "  return [sum(abs(avg_foot-avg_shoulder)),abs(avg_foot[0]-avg_shoulder[0]),abs(avg_foot[1]-avg_shoulder[1])],avg_foot,avg_shoulder\n",
        "\n",
        "  \n",
        "\n"
      ],
      "metadata": {
        "id": "bnG31upAJENU"
      },
      "execution_count": null,
      "outputs": []
    },
    {
      "cell_type": "code",
      "source": [
        "def add_distance_chart(nimg,shoulder_to_foot_dist,idx):\n",
        "      thickness = 5\n",
        "      gap = thickness*2\n",
        "\n",
        "      cv2.line(nimg, [0,0+3*idx*gap], [int(shoulder_to_foot_dist[0]),3*idx*gap], (255,0,255), thickness) \n",
        "      cv2.line(nimg, [0,gap+3*idx*gap], [int(shoulder_to_foot_dist[1]),gap+3*idx*gap], (0,0,255), thickness) \n",
        "      cv2.line(nimg, [0,2*gap+3*idx*gap], [int(shoulder_to_foot_dist[2]),2*gap+3*idx*gap], (255,0,0), thickness) \n",
        "      return nimg\n",
        "def draw_posture_lines(nimg,standing_line,current_line):\n",
        "  thickness = 5\n",
        "  cv2.line(nimg, (100,100), np.array((100,100)+standing_line*[100,100]).astype(int),(0,0,0), thickness)\n",
        "  cv2.line(nimg, (200,100), np.array((200,100)+current_line*[100,100]).astype(int),(0,0,0), thickness)\n",
        "\n",
        "\n",
        "\n"
      ],
      "metadata": {
        "id": "6uP9jsqXvYuQ"
      },
      "execution_count": null,
      "outputs": []
    },
    {
      "cell_type": "code",
      "source": [],
      "metadata": {
        "id": "7UHbtdzSQeTc"
      },
      "execution_count": null,
      "outputs": []
    },
    {
      "cell_type": "code",
      "source": [
        "standing_angle = []\n",
        "standing_std = None\n",
        "standing_mean = None"
      ],
      "metadata": {
        "id": "1oapyzWhy7Gq"
      },
      "execution_count": null,
      "outputs": []
    },
    {
      "cell_type": "code",
      "source": [
        "standing_mean = np.mean(standing_angle,axis = 0)\n",
        "standing_std = np.std(standing_angle,axis = 0)\n",
        "print(standing_mean,standing_std)"
      ],
      "metadata": {
        "colab": {
          "base_uri": "https://localhost:8080/"
        },
        "id": "gS2QINOK_Hvo",
        "outputId": "2271afdd-fb81-46bf-bcd8-0189bdccb0be"
      },
      "execution_count": null,
      "outputs": [
        {
          "output_type": "stream",
          "name": "stdout",
          "text": [
            "nan nan\n"
          ]
        },
        {
          "output_type": "stream",
          "name": "stderr",
          "text": [
            "/usr/local/lib/python3.7/dist-packages/numpy/core/fromnumeric.py:3441: RuntimeWarning: Mean of empty slice.\n",
            "  out=out, **kwargs)\n",
            "/usr/local/lib/python3.7/dist-packages/numpy/core/_methods.py:189: RuntimeWarning: invalid value encountered in double_scalars\n",
            "  ret = ret.dtype.type(ret / rcount)\n",
            "/usr/local/lib/python3.7/dist-packages/numpy/core/_methods.py:263: RuntimeWarning: Degrees of freedom <= 0 for slice\n",
            "  keepdims=keepdims, where=where)\n",
            "/usr/local/lib/python3.7/dist-packages/numpy/core/_methods.py:223: RuntimeWarning: invalid value encountered in true_divide\n",
            "  subok=False)\n",
            "/usr/local/lib/python3.7/dist-packages/numpy/core/_methods.py:254: RuntimeWarning: invalid value encountered in double_scalars\n",
            "  ret = ret.dtype.type(ret / rcount)\n"
          ]
        }
      ]
    },
    {
      "cell_type": "code",
      "execution_count": null,
      "metadata": {
        "id": "pqHeQsjVXqrr"
      },
      "outputs": [],
      "source": [
        "def draw_keypoints(output, image,set_standing_angle):\n",
        "  global standing_angle\n",
        "  output = non_max_suppression_kpt(output, \n",
        "                                     0.25, # Confidence Threshold\n",
        "                                     0.65, # IoU Threshold\n",
        "                                     nc=model.yaml['nc'], # Number of Classes\n",
        "                                     nkpt=model.yaml['nkpt'], # Number of Keypoints\n",
        "                                     kpt_label=True)\n",
        "  \n",
        "  with torch.no_grad():\n",
        "        output = output_to_keypoint(output)\n",
        "  #print(\"output after\",output.shape,output)\n",
        "  nimg = image[0].permute(1, 2, 0) * 255\n",
        "  nimg = nimg.cpu().numpy().astype(np.uint8)\n",
        "  nimg = cv2.cvtColor(nimg, cv2.COLOR_RGB2BGR)\n",
        "  #print('nimg',nimg.shape)\n",
        "\n",
        "\n",
        "  for idx in range(output.shape[0]):\n",
        "      plot_skeleton_kpts(nimg, output[idx, 7:].T, 3)\n",
        "      shoulder_to_foot_dist, foot_point, shoulder_point = calc_shoulder_to_foot_dist(output[idx, 7:].T)\n",
        "      if foot_point[0] == -1:\n",
        "        continue\n",
        "      #nimg = add_distance_chart(nimg,shoulder_to_foot_dist,idx)\n",
        "      current_angle = calc_current_angle(foot_point,shoulder_point)\n",
        "      if set_standing_angle:\n",
        "        standing_angle.append(current_angle)\n",
        "      else:\n",
        "        angle_diff = (current_angle - standing_mean)**2\n",
        "        print(\"angle diff\",angle_diff)\n",
        "        draw_posture_lines(nimg,standing_mean,current_angle)\n",
        "        if angle_diff[0] > standing_std[0] or angle_diff[1] > standing_std[1]:\n",
        "          cv2.line(nimg, [300,30], [300,60], (0,255,0), 10) \n",
        "        else:\n",
        "          cv2.line(nimg, [300,30], [300,60], (255,255,255), 10) \n",
        "\n",
        "\n",
        "    \n",
        "  \n",
        "  \n",
        "    \n",
        "  \n",
        "\n",
        "\n",
        "\n",
        "\n",
        "\n",
        "  #calc standing from example video\n",
        "  #compare to laying down cangle\n",
        "  #comapre to sitting angle adding waist -- these weights could be learned (?)\n",
        "\n",
        "\n",
        "      #print(\"test\",shoulder_to_foot_dist)\n",
        "      #print(\"skeleton point\", idx,output[idx, 7:].T, len(output[idx, 7:]) )\n",
        "\n",
        "  return nimg"
      ]
    },
    {
      "cell_type": "code",
      "source": [],
      "metadata": {
        "id": "fQ8AZSJQRIaN"
      },
      "execution_count": null,
      "outputs": []
    },
    {
      "cell_type": "code",
      "source": [
        "def calc_current_angle(foot_point,shoulder_point):\n",
        "  #print(foot_point,shoulder_point)\n",
        "  vec = abs(foot_point-shoulder_point)/sum(abs(foot_point-shoulder_point))\n",
        "  #print(vec)\n",
        "  return vec\n",
        "\n"
      ],
      "metadata": {
        "id": "67obenuCurjs"
      },
      "execution_count": null,
      "outputs": []
    },
    {
      "cell_type": "code",
      "execution_count": null,
      "metadata": {
        "id": "_mdxAhJmYsFN",
        "colab": {
          "base_uri": "https://localhost:8080/"
        },
        "outputId": "598a8ba4-5b31-48f3-b76e-21f239b61b2c"
      },
      "outputs": [
        {
          "output_type": "stream",
          "name": "stdout",
          "text": [
            "SETTING STANDING ANGLE\n"
          ]
        },
        {
          "output_type": "stream",
          "name": "stderr",
          "text": [
            "/usr/local/lib/python3.7/dist-packages/torch/functional.py:478: UserWarning: torch.meshgrid: in an upcoming release, it will be required to pass the indexing argument. (Triggered internally at  ../aten/src/ATen/native/TensorShape.cpp:2894.)\n",
            "  return _VF.meshgrid(tensors, **kwargs)  # type: ignore[attr-defined]\n"
          ]
        }
      ],
      "source": [
        "standing_angle = []\n",
        "standing_std = None\n",
        "standing_mean = None\n",
        "pose_estimation_video('/content/drive/MyDrive/Alarm/innovation week/walking.mov','/content/drive/MyDrive/Alarm/innovation week/save/standing_output.mp4')\n"
      ]
    },
    {
      "cell_type": "code",
      "source": [
        "pose_estimation_video('/content/drive/MyDrive/Alarm/innovation week/up_down.mp4','/content/drive/MyDrive/Alarm/innovation week/save/up_down_black_no_dist.mp4')\n"
      ],
      "metadata": {
        "colab": {
          "base_uri": "https://localhost:8080/"
        },
        "id": "sjB5uQWiCQQk",
        "outputId": "b395771c-9b36-4b2e-e19f-886fe2a34fda"
      },
      "execution_count": null,
      "outputs": [
        {
          "output_type": "stream",
          "name": "stdout",
          "text": [
            "CALCULATING CURRENT ANGLE\n",
            "starting\n",
            "angle diff [ 0.00010379  0.00010379]\n",
            "angle diff [ 5.3357e-06  5.3357e-06]\n",
            "angle diff [ 9.5411e-07  9.5411e-07]\n",
            "angle diff [ 3.1444e-05  3.1444e-05]\n",
            "angle diff [ 0.00016688  0.00016688]\n",
            "angle diff [ 5.8344e-05  5.8344e-05]\n",
            "angle diff [ 6.0969e-05  6.0969e-05]\n",
            "angle diff [ 0.00017634  0.00017634]\n",
            "angle diff [ 3.4659e-05  3.4659e-05]\n",
            "angle diff [ 1.0227e-05  1.0227e-05]\n",
            "angle diff [ 0.00013907  0.00013907]\n",
            "angle diff [ 0.00083404  0.00083404]\n",
            "angle diff [  0.0016234   0.0016234]\n",
            "angle diff [  0.0019617   0.0019617]\n",
            "angle diff [  0.0017826   0.0017826]\n",
            "angle diff [  0.0012314   0.0012314]\n",
            "angle diff [  0.0010834   0.0010834]\n",
            "angle diff [  0.0012151   0.0012151]\n",
            "angle diff [  0.0015227   0.0015227]\n",
            "angle diff [  0.0018103   0.0018103]\n",
            "angle diff [ 0.00070284  0.00070284]\n",
            "angle diff [ 1.3402e-05  1.3402e-05]\n",
            "angle diff [ 0.00014795  0.00014795]\n",
            "angle diff [   0.001187    0.001187]\n",
            "angle diff [  0.0031541   0.0031541]\n",
            "angle diff [  0.0051821   0.0051821]\n",
            "angle diff [  0.0075233   0.0075233]\n",
            "angle diff [  0.0074929   0.0074929]\n",
            "angle diff [  0.0069485   0.0069485]\n",
            "angle diff [  0.0066025   0.0066025]\n",
            "angle diff [  0.0077991   0.0077991]\n",
            "angle diff [   0.010133    0.010133]\n",
            "angle diff [   0.012929    0.012929]\n",
            "angle diff [     0.0152      0.0152]\n",
            "angle diff [   0.017242    0.017242]\n",
            "angle diff [   0.016764    0.016764]\n",
            "angle diff [   0.015086    0.015086]\n",
            "angle diff [   0.013175    0.013175]\n",
            "angle diff [   0.012597    0.012597]\n",
            "angle diff [  0.0091853   0.0091853]\n",
            "angle diff [  0.0074504   0.0074504]\n",
            "angle diff [  0.0063002   0.0063002]\n",
            "angle diff [  0.0034478   0.0034478]\n",
            "angle diff [  0.0028422   0.0028422]\n",
            "angle diff [  0.0049452   0.0049452]\n",
            "angle diff [  0.0011212   0.0011212]\n",
            "angle diff [ 7.3188e-05  7.3188e-05]\n",
            "angle diff [  0.0020264   0.0020264]\n",
            "angle diff [  0.0013819   0.0013819]\n",
            "angle diff [  6.862e-06   6.862e-06]\n",
            "angle diff [  0.0032387   0.0032387]\n",
            "angle diff [  0.0083461   0.0083461]\n",
            "angle diff [   0.015628    0.015628]\n",
            "angle diff [   0.020113    0.020113]\n",
            "angle diff [   0.024741    0.024741]\n",
            "angle diff [   0.035263    0.035263]\n",
            "angle diff [    0.04487     0.04487]\n",
            "angle diff [   0.043858    0.043858]\n",
            "angle diff [    0.04598     0.04598]\n",
            "angle diff [   0.050681    0.050681]\n",
            "angle diff [   0.045341    0.045341]\n",
            "angle diff [   0.051856    0.051856]\n",
            "angle diff [   0.049796    0.049796]\n",
            "angle diff [    0.04359     0.04359]\n",
            "angle diff [    0.16387     0.16387]\n",
            "angle diff [   0.014355    0.014355]\n",
            "angle diff [   0.065925    0.065925]\n",
            "angle diff [   0.081164    0.081164]\n",
            "angle diff [    0.11194     0.11194]\n",
            "angle diff [    0.07795     0.07795]\n",
            "angle diff [    0.12897     0.12897]\n",
            "angle diff [    0.15173     0.15173]\n",
            "angle diff [    0.13749     0.13749]\n",
            "angle diff [    0.21452     0.21452]\n",
            "angle diff [    0.23116     0.23116]\n",
            "angle diff [     0.1925      0.1925]\n",
            "angle diff [     0.2019      0.2019]\n",
            "angle diff [     0.2199      0.2199]\n",
            "angle diff [    0.25952     0.25952]\n",
            "angle diff [    0.24711     0.24711]\n",
            "angle diff [    0.26256     0.26256]\n",
            "angle diff [    0.24582     0.24582]\n",
            "angle diff [    0.25767     0.25767]\n",
            "angle diff [    0.56065     0.56065]\n",
            "angle diff [    0.41754     0.41754]\n",
            "angle diff [    0.47348     0.47348]\n",
            "angle diff [    0.59401     0.59401]\n",
            "angle diff [    0.55455     0.55455]\n",
            "angle diff [    0.64916     0.64916]\n",
            "angle diff [      0.591       0.591]\n",
            "angle diff [    0.47962     0.47962]\n",
            "angle diff [    0.41212     0.41212]\n",
            "angle diff [    0.51017     0.51017]\n",
            "angle diff [    0.46738     0.46738]\n",
            "angle diff [     0.4588      0.4588]\n",
            "angle diff [     0.4549      0.4549]\n",
            "angle diff [    0.41517     0.41517]\n",
            "angle diff [    0.38516     0.38516]\n",
            "angle diff [    0.36677     0.36677]\n",
            "angle diff [    0.34409     0.34409]\n",
            "angle diff [    0.33693     0.33693]\n",
            "angle diff [    0.35951     0.35951]\n",
            "angle diff [    0.38338     0.38338]\n",
            "angle diff [    0.38057     0.38057]\n",
            "angle diff [    0.38322     0.38322]\n",
            "angle diff [    0.38066     0.38066]\n",
            "angle diff [    0.38091     0.38091]\n",
            "angle diff [    0.38528     0.38528]\n",
            "angle diff [    0.38334     0.38334]\n",
            "angle diff [    0.39498     0.39498]\n",
            "angle diff [    0.40187     0.40187]\n",
            "angle diff [    0.38989     0.38989]\n",
            "angle diff [    0.38262     0.38262]\n",
            "angle diff [    0.36611     0.36611]\n",
            "angle diff [    0.36458     0.36458]\n",
            "angle diff [    0.35183     0.35183]\n",
            "angle diff [     0.3417      0.3417]\n",
            "angle diff [    0.34484     0.34484]\n",
            "angle diff [    0.34745     0.34745]\n",
            "angle diff [    0.35626     0.35626]\n",
            "angle diff [    0.36498     0.36498]\n",
            "angle diff [    0.36202     0.36202]\n",
            "angle diff [    0.35356     0.35356]\n",
            "angle diff [       0.44        0.44]\n",
            "angle diff [    0.39214     0.39214]\n",
            "angle diff [    0.35265     0.35265]\n",
            "angle diff [    0.36235     0.36235]\n",
            "angle diff [    0.35139     0.35139]\n",
            "angle diff [    0.36001     0.36001]\n",
            "angle diff [    0.35386     0.35386]\n",
            "angle diff [    0.35957     0.35957]\n",
            "angle diff [    0.35762     0.35762]\n",
            "angle diff [    0.35854     0.35854]\n",
            "angle diff [    0.36493     0.36493]\n",
            "angle diff [    0.36125     0.36125]\n",
            "angle diff [    0.36666     0.36666]\n",
            "angle diff [     0.3804      0.3804]\n",
            "angle diff [    0.35731     0.35731]\n",
            "angle diff [    0.36603     0.36603]\n",
            "angle diff [    0.36762     0.36762]\n",
            "angle diff [    0.36153     0.36153]\n",
            "angle diff [     0.3576      0.3576]\n",
            "angle diff [    0.35667     0.35667]\n",
            "angle diff [    0.35631     0.35631]\n",
            "angle diff [    0.35232     0.35232]\n",
            "angle diff [    0.35368     0.35368]\n",
            "angle diff [      0.352       0.352]\n",
            "angle diff [    0.35357     0.35357]\n",
            "angle diff [    0.35359     0.35359]\n",
            "angle diff [     0.3581      0.3581]\n",
            "angle diff [    0.35731     0.35731]\n",
            "angle diff [     0.3557      0.3557]\n",
            "angle diff [     0.3576      0.3576]\n",
            "angle diff [    0.36639     0.36639]\n",
            "angle diff [    0.36658     0.36658]\n",
            "angle diff [    0.36813     0.36813]\n",
            "angle diff [    0.36643     0.36643]\n",
            "angle diff [    0.36879     0.36879]\n",
            "angle diff [    0.36877     0.36877]\n",
            "angle diff [    0.36795     0.36795]\n",
            "angle diff [    0.37048     0.37048]\n",
            "angle diff [    0.36967     0.36967]\n",
            "angle diff [    0.37202     0.37202]\n",
            "angle diff [    0.37284     0.37284]\n",
            "angle diff [    0.37371     0.37371]\n",
            "angle diff [    0.37281     0.37281]\n",
            "angle diff [    0.36664     0.36664]\n",
            "angle diff [    0.36205     0.36205]\n",
            "angle diff [    0.36389     0.36389]\n",
            "angle diff [    0.36036     0.36036]\n",
            "angle diff [     0.3737      0.3737]\n",
            "angle diff [    0.37196     0.37196]\n",
            "angle diff [    0.36441     0.36441]\n",
            "angle diff [    0.35356     0.35356]\n",
            "angle diff [    0.34616     0.34616]\n",
            "angle diff [    0.33491     0.33491]\n",
            "angle diff [    0.33447     0.33447]\n",
            "angle diff [    0.32408     0.32408]\n",
            "angle diff [    0.32061     0.32061]\n",
            "angle diff [    0.30818     0.30818]\n",
            "angle diff [    0.29675     0.29675]\n",
            "angle diff [    0.29216     0.29216]\n",
            "angle diff [      0.288       0.288]\n",
            "angle diff [    0.29014     0.29014]\n",
            "angle diff [    0.28913     0.28913]\n",
            "angle diff [    0.27588     0.27588]\n",
            "angle diff [    0.25344     0.25344]\n",
            "angle diff [    0.24017     0.24017]\n",
            "angle diff [    0.21366     0.21366]\n",
            "angle diff [    0.19845     0.19845]\n",
            "angle diff [    0.19195     0.19195]\n",
            "angle diff [    0.17874     0.17874]\n",
            "angle diff [    0.17401     0.17401]\n",
            "angle diff [    0.15489     0.15489]\n",
            "angle diff [    0.13331     0.13331]\n",
            "angle diff [    0.11022     0.11022]\n",
            "angle diff [   0.081246    0.081246]\n",
            "angle diff [   0.061463    0.061463]\n",
            "angle diff [   0.044736    0.044736]\n",
            "angle diff [   0.030929    0.030929]\n",
            "angle diff [   0.019414    0.019414]\n",
            "angle diff [   0.005479    0.005479]\n",
            "angle diff [ 9.3697e-07  9.3697e-07]\n",
            "angle diff [ 0.00055684  0.00055684]\n",
            "angle diff [   0.010813    0.010813]\n",
            "angle diff [   0.021392    0.021392]\n",
            "angle diff [     0.0491      0.0491]\n",
            "angle diff [   0.055361    0.055361]\n",
            "angle diff [   0.062445    0.062445]\n",
            "angle diff [   0.058207    0.058207]\n",
            "angle diff [   0.049947    0.049947]\n",
            "angle diff [   0.041233    0.041233]\n",
            "angle diff [   0.034532    0.034532]\n",
            "angle diff [   0.023566    0.023566]\n",
            "angle diff [   0.012716    0.012716]\n",
            "angle diff [ 0.00064657  0.00064657]\n",
            "angle diff [ 5.3323e-06  5.3323e-06]\n",
            "angle diff [ 2.0484e-06  2.0484e-06]\n",
            "angle diff [ 0.00044422  0.00044422]\n",
            "angle diff [  0.0009093   0.0009093]\n",
            "angle diff [ 0.00041627  0.00041627]\n",
            "angle diff [  0.0014545   0.0014545]\n",
            "angle diff [   0.001634    0.001634]\n",
            "angle diff [  0.0010036   0.0010036]\n",
            "angle diff [  0.0018291   0.0018291]\n",
            "angle diff [ 0.00064552  0.00064552]\n",
            "angle diff [ 2.1191e-05  2.1191e-05]\n",
            "angle diff [ 6.4203e-05  6.4203e-05]\n",
            "angle diff [ 1.7312e-05  1.7312e-05]\n",
            "angle diff [ 0.00021617  0.00021617]\n",
            "angle diff [ 0.00093868  0.00093868]\n",
            "angle diff [ 0.00035276  0.00035276]\n",
            "angle diff [  0.0008136   0.0008136]\n",
            "angle diff [  0.0010441   0.0010441]\n",
            "angle diff [  0.0012527   0.0012527]\n",
            "angle diff [  0.0012952   0.0012952]\n",
            "angle diff [ 0.00089209  0.00089209]\n",
            "angle diff [ 0.00083342  0.00083342]\n",
            "angle diff [  0.0012452   0.0012452]\n",
            "angle diff [  0.0011488   0.0011488]\n",
            "angle diff [ 0.00076916  0.00076916]\n",
            "angle diff [ 0.00094675  0.00094675]\n",
            "angle diff [ 0.00043039  0.00043039]\n",
            "angle diff [ 0.00020168  0.00020168]\n",
            "angle diff [ 1.1286e-05  1.1286e-05]\n",
            "angle diff [  1.575e-07   1.575e-07]\n",
            "angle diff [   5.18e-06    5.18e-06]\n",
            "angle diff [ 2.2488e-05  2.2488e-05]\n",
            "angle diff [ 5.0054e-05  5.0054e-05]\n",
            "angle diff [ 0.00013843  0.00013843]\n",
            "angle diff [ 8.3945e-05  8.3945e-05]\n",
            "angle diff [ 5.8688e-05  5.8688e-05]\n",
            "angle diff [ 5.3839e-05  5.3839e-05]\n",
            "angle diff [ 2.5551e-05  2.5551e-05]\n",
            "angle diff [ 0.00014777  0.00014777]\n",
            "angle diff [ 6.9212e-05  6.9212e-05]\n",
            "angle diff [ 5.2294e-05  5.2294e-05]\n",
            "angle diff [ 0.00026518  0.00026518]\n",
            "angle diff [ 0.00064011  0.00064011]\n",
            "angle diff [ 0.00084855  0.00084855]\n",
            "angle diff [  0.0010128   0.0010128]\n",
            "angle diff [ 0.00066686  0.00066686]\n",
            "angle diff [ 0.00057754  0.00057754]\n",
            "angle diff [ 0.00052486  0.00052486]\n",
            "angle diff [ 0.00058864  0.00058864]\n",
            "angle diff [  0.0013979   0.0013979]\n",
            "angle diff [  0.0020066   0.0020066]\n",
            "angle diff [  0.0013963   0.0013963]\n",
            "angle diff [ 0.00070506  0.00070506]\n",
            "angle diff [ 0.00084502  0.00084502]\n",
            "angle diff [ 0.00045019  0.00045019]\n",
            "angle diff [ 0.00052041  0.00052041]\n",
            "angle diff [ 0.00034959  0.00034959]\n",
            "angle diff [  0.0002193   0.0002193]\n",
            "angle diff [ 8.0013e-05  8.0013e-05]\n",
            "angle diff [ 1.5728e-06  1.5728e-06]\n",
            "angle diff [ 8.5457e-06  8.5457e-06]\n",
            "angle diff [ 6.5609e-05  6.5609e-05]\n",
            "angle diff [ 8.8605e-05  8.8605e-05]\n",
            "angle diff [ 0.00018486  0.00018486]\n",
            "angle diff [ 5.0744e-05  5.0744e-05]\n",
            "angle diff [ 9.3017e-06  9.3017e-06]\n",
            "angle diff [ 0.00022597  0.00022597]\n",
            "angle diff [ 0.00061508  0.00061508]\n",
            "angle diff [ 0.00093608  0.00093608]\n",
            "angle diff [  0.0012773   0.0012773]\n",
            "angle diff [  0.0015322   0.0015322]\n",
            "angle diff [ 0.00020358  0.00020358]\n",
            "angle diff [ 0.00037552  0.00037552]\n",
            "angle diff [ 0.00067471  0.00067471]\n",
            "angle diff [ 0.00070799  0.00070799]\n",
            "angle diff [  0.0014308   0.0014308]\n",
            "angle diff [ 0.00085052  0.00085052]\n",
            "angle diff [  0.0010885   0.0010885]\n",
            "angle diff [  0.0011773   0.0011773]\n",
            "angle diff [ 0.00077284  0.00077284]\n",
            "angle diff [ 0.00096462  0.00096462]\n",
            "angle diff [  0.0014462   0.0014462]\n",
            "angle diff [  0.0011858   0.0011858]\n",
            "angle diff [  0.0011655   0.0011655]\n",
            "angle diff [  0.0019768   0.0019768]\n",
            "angle diff [  0.0012936   0.0012936]\n",
            "angle diff [  0.0013099   0.0013099]\n",
            "angle diff [  0.0017408   0.0017408]\n",
            "angle diff [  0.0017621   0.0017621]\n",
            "angle diff [  0.0012694   0.0012694]\n",
            "angle diff [ 0.00054562  0.00054562]\n",
            "angle diff [ 3.8695e-06  3.8695e-06]\n",
            "angle diff [ 8.1092e-06  8.1092e-06]\n",
            "angle diff [  0.0001974   0.0001974]\n",
            "angle diff [ 1.1171e-05  1.1171e-05]\n",
            "angle diff [ 2.1322e-05  2.1322e-05]\n",
            "angle diff [ 3.9338e-05  3.9338e-05]\n",
            "angle diff [ 3.0235e-06  3.0235e-06]\n",
            "angle diff [ 2.8207e-05  2.8207e-05]\n",
            "angle diff [ 2.3717e-05  2.3717e-05]\n",
            "angle diff [ 9.8575e-07  9.8575e-07]\n",
            "angle diff [ 8.9283e-05  8.9283e-05]\n",
            "angle diff [ 1.8967e-07  1.8967e-07]\n",
            "angle diff [ 6.5024e-06  6.5024e-06]\n",
            "angle diff [ 1.0628e-05  1.0628e-05]\n",
            "angle diff [  0.0016788   0.0016788]\n",
            "angle diff [  0.0030874   0.0030874]\n",
            "angle diff [ 3.3742e-05  3.3742e-05]\n",
            "angle diff [    0.19326     0.19326]\n",
            "angle diff [ 0.00020153  0.00020153]\n",
            "angle diff [ 0.00010622  0.00010622]\n",
            "angle diff [   0.001978    0.001978]\n",
            "angle diff [ 1.5847e-05  1.5847e-05]\n",
            "angle diff [   0.051328    0.051328]\n",
            "angle diff [   0.038395    0.038395]\n",
            "angle diff [ 0.00061872  0.00061872]\n",
            "angle diff [   0.044594    0.044594]\n",
            "angle diff [   0.013136    0.013136]\n",
            "angle diff [   0.095122    0.095122]\n",
            "angle diff [   0.051761    0.051761]\n",
            "angle diff [ 3.8622e-06  3.8622e-06]\n",
            "angle diff [   0.021641    0.021641]\n"
          ]
        }
      ]
    },
    {
      "cell_type": "code",
      "source": [
        "print(standing_mean)"
      ],
      "metadata": {
        "colab": {
          "base_uri": "https://localhost:8080/"
        },
        "id": "_NoFZIMfw12X",
        "outputId": "b5236666-0995-4e81-e1b4-569783f1afc0"
      },
      "execution_count": null,
      "outputs": [
        {
          "output_type": "stream",
          "name": "stdout",
          "text": [
            "None\n"
          ]
        }
      ]
    },
    {
      "cell_type": "code",
      "execution_count": null,
      "metadata": {
        "id": "kJGyNWnSNoBq"
      },
      "outputs": [],
      "source": []
    },
    {
      "cell_type": "code",
      "execution_count": null,
      "metadata": {
        "id": "CpVcJqe5ZmmJ"
      },
      "outputs": [],
      "source": [
        "test = torch.load(\"/content/drive/MyDrive/Alarm/save/1.pt\")\n"
      ]
    },
    {
      "cell_type": "code",
      "execution_count": null,
      "metadata": {
        "id": "O7X7z0gVigzM"
      },
      "outputs": [],
      "source": [
        "test.shape"
      ]
    },
    {
      "cell_type": "code",
      "execution_count": null,
      "metadata": {
        "id": "exr4Ct_LiiFs"
      },
      "outputs": [],
      "source": []
    },
    {
      "cell_type": "markdown",
      "metadata": {
        "id": "ZT4LKokc9O3M"
      },
      "source": [
        "Take two"
      ]
    },
    {
      "cell_type": "code",
      "execution_count": null,
      "metadata": {
        "id": "M2ajn4vr9QV3"
      },
      "outputs": [],
      "source": [
        "def pose_video(frame):\n",
        "    mapped_img = frame.copy()\n",
        "    # Letterbox resizing.\n",
        "    img = letterbox(frame, input_size, stride=64, auto=True)[0]\n",
        "    print(img.shape)\n",
        "    img_ = img.copy()\n",
        "    # Convert the array to 4D.\n",
        "    img = transforms.ToTensor()(img)\n",
        "    # Convert the array to Tensor.\n",
        "    img = torch.tensor(np.array([img.numpy()]))\n",
        "    # Load the image into the computation device.\n",
        "    img = img.to(device)\n",
        "     \n",
        "    # Gradients are stored during training, not required while inference.\n",
        "    with torch.no_grad():\n",
        "        t1 = time.time()\n",
        "        output, _ = model(img)\n",
        "        t2 = time.time()\n",
        "        fps = 1/(t2 - t1)\n",
        "        output = non_max_suppression_kpt(output, \n",
        "                                         0.25,    # Conf. Threshold.\n",
        "                                         0.65,    # IoU Threshold.\n",
        "                                         nc=1,   # Number of classes.\n",
        "                                         nkpt=17, # Number of keypoints.\n",
        "                                         kpt_label=True)\n",
        "         \n",
        "        output = output_to_keypoint(output)\n",
        " \n",
        "    # Change format [b, c, h, w] to [h, w, c] for displaying the image.\n",
        "    nimg = img[0].permute(1, 2, 0) * 255\n",
        "    nimg = nimg.cpu().numpy().astype(np.uint8)\n",
        "    nimg = cv2.cvtColor(nimg, cv2.COLOR_RGB2BGR)\n",
        " \n",
        "    for idx in range(output.shape[0]):\n",
        "        plot_skeleton_kpts(nimg, output[idx, 7:].T, 3)\n",
        "         \n",
        "    return nimg, fps"
      ]
    },
    {
      "cell_type": "code",
      "execution_count": null,
      "metadata": {
        "id": "8Ll5-R7f_mOe"
      },
      "outputs": [],
      "source": [
        "!wget https://github.com/WongKinYiu/yolov7/releases/download/v0.1/yolov7-w6-pose.pt\n"
      ]
    },
    {
      "cell_type": "code",
      "execution_count": null,
      "metadata": {
        "id": "q_9gyGd4_RcS"
      },
      "outputs": [],
      "source": [
        "import matplotlib.pyplot as plt\n",
        "import torch\n",
        "import cv2\n",
        "import numpy as np\n",
        "import time\n",
        " \n",
        "from torchvision import transforms\n",
        "from utils.datasets import letterbox\n",
        "from utils.general import non_max_suppression_kpt\n",
        "from utils.plots import output_to_keypoint, plot_skeleton_kpts\n",
        " \n",
        "device = torch.device(\"cuda:0\" if torch.cuda.is_available() else \"cpu\")\n",
        "weigths = torch.load('yolov7-w6-pose.pt')\n",
        "model = weigths['model']\n",
        "model = model.half().to(device)\n",
        "_ = model.eval()\n",
        " \n",
        "video_path = '/content/drive/MyDrive/Alarm/walking.mp4'"
      ]
    },
    {
      "cell_type": "code",
      "execution_count": null,
      "metadata": {
        "id": "L0YXFHyM_uvH"
      },
      "outputs": [],
      "source": [
        "cap = cv2.VideoCapture(video_path)\n",
        "if (cap.isOpened() == False):\n",
        "  print('Error while trying to read video. Please check path again')\n",
        " \n",
        "# Get the frame width and height.\n",
        "frame_width = int(cap.get(3))\n",
        "frame_height = int(cap.get(4))\n",
        " \n",
        "# Pass the first frame through `letterbox` function to get the resized image,\n",
        "# to be used for `VideoWriter` dimensions. Resize by larger side.\n",
        "vid_write_image = letterbox(cap.read()[1], (frame_width), stride=64, auto=True)[0]\n",
        "resize_height, resize_width = vid_write_image.shape[:2]\n",
        " \n",
        "save_name = f\"{video_path.split('/')[-1].split('.')[0]}\"\n",
        "# Define codec and create VideoWriter object .\n",
        "out = cv2.VideoWriter(f\"{save_name}_keypoint.mp4\",\n",
        "                    cv2.VideoWriter_fourcc(*'mp4v'), 30,\n",
        "                    (resize_width, resize_height))\n",
        " \n",
        " \n",
        "frame_count = 0 # To count total frames.\n",
        "total_fps = 0 # To get the final frames per second."
      ]
    },
    {
      "cell_type": "code",
      "execution_count": null,
      "metadata": {
        "id": "mgoXAhkJABO4"
      },
      "outputs": [],
      "source": [
        "while(cap.isOpened):\n",
        "  # Capture each frame of the video.\n",
        "  ret, frame = cap.read()\n",
        "  if ret:\n",
        "      orig_image = frame\n",
        "      image = cv2.cvtColor(orig_image, cv2.COLOR_BGR2RGB)\n",
        "      image = letterbox(image, (int(cap.get(3))), stride=64, auto=True)[0]\n",
        "      image_ = image.copy()\n",
        "      image = transforms.ToTensor()(image)\n",
        "      image = torch.tensor(np.array([image.numpy()]))\n",
        "      image = image.to(device)\n",
        "      image = image.half()\n",
        " \n",
        "      # Get the start time.\n",
        "      start_time = time.time()\n",
        "      with torch.no_grad():\n",
        "          output, _ = model(image)\n",
        "        # Get the end time.\n",
        "      end_time = time.time()\n",
        "      # Get the fps.\n",
        "      fps = 1 / (end_time - start_time)\n",
        "      # Add fps to total fps.\n",
        "      total_fps += fps\n",
        "      # Increment frame count.\n",
        "      frame_count += 1\n",
        " \n",
        "      output = non_max_suppression_kpt(output, 0.25, 0.65, nc=model.yaml['nc'], nkpt=model.yaml['nkpt'], kpt_label=True)\n",
        "      output = output_to_keypoint(output)\n",
        "      nimg = image[0].permute(1, 2, 0) * 255\n",
        "      nimg = nimg.cpu().numpy().astype(np.uint8)\n",
        "      nimg = cv2.cvtColor(nimg, cv2.COLOR_RGB2BGR)\n",
        "      for idx in range(output.shape[0]):\n",
        "          plot_skeleton_kpts(nimg, output[idx, 7:].T, 3)\n",
        " \n",
        "          # Comment/Uncomment the following lines to show bounding boxes around persons.\n",
        "          xmin, ymin = (output[idx, 2]-output[idx, 4]/2), (output[idx, 3]-output[idx, 5]/2)\n",
        "          xmax, ymax = (output[idx, 2]+output[idx, 4]/2), (output[idx, 3]+output[idx, 5]/2)\n",
        "          cv2.rectangle(\n",
        "              nimg,\n",
        "              (int(xmin), int(ymin)),\n",
        "              (int(xmax), int(ymax)),\n",
        "              color=(255, 0, 0),\n",
        "              thickness=1,\n",
        "              lineType=cv2.LINE_AA\n",
        "          )\n",
        " \n",
        "      # Write the FPS on the current frame.\n",
        "      cv2.putText(nimg, f\"{fps:.3f} FPS\", (15, 30), cv2.FONT_HERSHEY_SIMPLEX,\n",
        "                  1, (0, 255, 0), 2)\n",
        "      # Convert from BGR to RGB color format.\n",
        "      cv2.imshow('image', nimg)\n",
        "      out.write(nimg)\n",
        "      # Press `q` to exit.\n",
        "      if cv2.waitKey(1) & 0xFF == ord('q'):\n",
        "          break\n",
        "  else:\n",
        "      break\n",
        "# Release VideoCapture().\n",
        "cap.release()\n",
        "# Close all frames and video windows.\n",
        "cv2.destroyAllWindows()\n",
        "# Calculate and print the average FPS.\n",
        "avg_fps = total_fps / frame_count\n",
        "print(f\"Average FPS: {avg_fps:.3f}\")"
      ]
    },
    {
      "cell_type": "markdown",
      "metadata": {
        "id": "yeozMk7ANqSZ"
      },
      "source": [
        "Take 3"
      ]
    },
    {
      "cell_type": "code",
      "execution_count": null,
      "metadata": {
        "id": "JOfMOWi3OAv_"
      },
      "outputs": [],
      "source": [
        "from google.colab import drive\n",
        "drive.mount(\"/content/drive\")"
      ]
    },
    {
      "cell_type": "code",
      "execution_count": null,
      "metadata": {
        "id": "CkhctnpYNpE5"
      },
      "outputs": [],
      "source": [
        "!git clone https://github.com/RizwanMunawar/yolov7-pose-estimation.git\n",
        "!cd yolov7-pose-estimation\n",
        "!pip install --upgrade pip\n",
        "!pip install -r requirements.txt\n"
      ]
    },
    {
      "cell_type": "code",
      "execution_count": null,
      "metadata": {
        "id": "Irz1og23OfhD"
      },
      "outputs": [],
      "source": [
        "!cd yolov7-pose-estimation; python pose-estimate.py --source \"/content/drive/MyDrive/Alarm/IMG_7970.MOV\" --device cpu"
      ]
    },
    {
      "cell_type": "code",
      "execution_count": null,
      "metadata": {
        "id": "d41zQfD-O5b_"
      },
      "outputs": [],
      "source": [
        "#!cd yolov7-pose-estimation;curl -L https://github.com/RizwanMunawar/yolov7-pose-estimation -o yolov7-w6-pose.pt\n",
        "!cd yolov7-pose-estimation; wget https://github.com/RizwanMunawar/yolov7-pose-estimation\n"
      ]
    },
    {
      "cell_type": "code",
      "execution_count": null,
      "metadata": {
        "id": "aSR5RPCRO5yG"
      },
      "outputs": [],
      "source": [
        "!cp /content/drive/MyDrive/Alarm/yolov7-w6-pose.pt /content/yolov7/yolov7-pose-estimation/"
      ]
    },
    {
      "cell_type": "code",
      "execution_count": null,
      "metadata": {
        "id": "X_ceWqbiPnAn"
      },
      "outputs": [],
      "source": []
    }
  ],
  "metadata": {
    "accelerator": "GPU",
    "colab": {
      "provenance": [],
      "authorship_tag": "ABX9TyNIs2lP6y1vjffP8w2XEKkL",
      "include_colab_link": true
    },
    "gpuClass": "standard",
    "kernelspec": {
      "display_name": "Python 3",
      "name": "python3"
    },
    "language_info": {
      "name": "python"
    }
  },
  "nbformat": 4,
  "nbformat_minor": 0
}